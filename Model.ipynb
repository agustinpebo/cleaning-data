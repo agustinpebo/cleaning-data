{
 "cells": [
  {
   "cell_type": "code",
   "execution_count": 5,
   "id": "76bf0edf",
   "metadata": {},
   "outputs": [],
   "source": [
    "import pandas as pd\n",
    "import numpy as np\n",
    "import matplotlib.pyplot as plt\n",
    "import seaborn as sn\n",
    "import warnings\n",
    "pd.options.display.float_format = '{:.2f}'.format\n",
    "warnings.simplefilter(action='ignore')\n",
    "sn.set()"
   ]
  },
  {
   "cell_type": "code",
   "execution_count": 6,
   "id": "472edd65",
   "metadata": {},
   "outputs": [],
   "source": [
    "data = pd.read_csv(\"Scaled_Data.csv\")"
   ]
  },
  {
   "cell_type": "markdown",
   "id": "b9238afe",
   "metadata": {},
   "source": [
    "### Splitting data"
   ]
  },
  {
   "cell_type": "code",
   "execution_count": 8,
   "id": "671b5533",
   "metadata": {},
   "outputs": [],
   "source": [
    "train = data.sample(frac = 0.75, replace = True, random_state=43)\n",
    "validate = data.sample(frac = 0.1, replace = True, random_state=44)\n",
    "test = data.sample(frac = 0.15, replace = True, random_state=45)"
   ]
  },
  {
   "cell_type": "markdown",
   "id": "0d927fdc",
   "metadata": {},
   "source": [
    "### Splitting predictors and target"
   ]
  },
  {
   "cell_type": "code",
   "execution_count": 9,
   "id": "acf55ea2",
   "metadata": {},
   "outputs": [],
   "source": [
    "y_train = train[\"soldprice_2032\"]\n",
    "x_train = train.drop([\"soldprice_2032\"], axis = 1)\n",
    "\n",
    "y_validate = validate[\"soldprice_2032\"]\n",
    "x_validate = validate.drop([\"soldprice_2032\"], axis = 1)\n",
    "\n",
    "y_test = test[\"soldprice_2032\"]\n",
    "x_test = test.drop([\"soldprice_2032\"], axis = 1)"
   ]
  },
  {
   "cell_type": "markdown",
   "id": "7ec09f11",
   "metadata": {},
   "source": [
    "### Selecting features"
   ]
  },
  {
   "cell_type": "code",
   "execution_count": 10,
   "id": "7eb6fd28",
   "metadata": {},
   "outputs": [],
   "source": [
    "class MultipleLinearRegression():\n",
    "    \n",
    "    def fit(self, x, y):\n",
    "        self.w = np.linalg.solve(x.T@x, x.T@y)\n",
    "        \n",
    "    def predict(self, x):\n",
    "        \n",
    "        return np.matmul(x, self.w)"
   ]
  },
  {
   "cell_type": "code",
   "execution_count": 491,
   "id": "10eb9828",
   "metadata": {},
   "outputs": [],
   "source": [
    "lr_mul = MultipleLinearRegression()"
   ]
  },
  {
   "cell_type": "code",
   "execution_count": 11,
   "id": "4c51853f",
   "metadata": {},
   "outputs": [],
   "source": [
    "feats = ['lot_acres','bedrooms', 'bathrooms', 'sqrt_ft', \n",
    "         'fireplaces', \"initial_price\",'HOA', 'house_age', \n",
    "         'electric','convection', 'pantry', 'refrigerator',\n",
    "         'purifier', 'warming', 'wet', 'porcelain', 'stone', \n",
    "         'acrylic', 'brick','carpet', 'ceramic', 'vinyl', \n",
    "         \"zipcode\"]"
   ]
  },
  {
   "cell_type": "code",
   "execution_count": 579,
   "id": "3b93c907",
   "metadata": {},
   "outputs": [],
   "source": [
    "lr_mul.fit(x_train[feats],y_train)"
   ]
  },
  {
   "cell_type": "code",
   "execution_count": 580,
   "id": "2097a676",
   "metadata": {},
   "outputs": [],
   "source": [
    "y_hat_tr = lr_mul.predict(x_train[feats])"
   ]
  },
  {
   "cell_type": "code",
   "execution_count": 18,
   "id": "e913092a",
   "metadata": {},
   "outputs": [],
   "source": [
    "def R2(y,y_hat):\n",
    "    return (1-(np.sum((y-y_hat)**2)/np.sum((y-np.mean(y))**2)))"
   ]
  },
  {
   "cell_type": "code",
   "execution_count": 19,
   "id": "753aa1b4",
   "metadata": {},
   "outputs": [
    {
     "ename": "NameError",
     "evalue": "name 'y_hat_tr' is not defined",
     "output_type": "error",
     "traceback": [
      "\u001b[1;31m---------------------------------------------------------------------------\u001b[0m",
      "\u001b[1;31mNameError\u001b[0m                                 Traceback (most recent call last)",
      "\u001b[1;32m~\\AppData\\Local\\Temp/ipykernel_7652/3459881836.py\u001b[0m in \u001b[0;36m<module>\u001b[1;34m\u001b[0m\n\u001b[1;32m----> 1\u001b[1;33m \u001b[0mR2\u001b[0m\u001b[1;33m(\u001b[0m\u001b[0my_train\u001b[0m\u001b[1;33m,\u001b[0m \u001b[0my_hat_tr\u001b[0m\u001b[1;33m)\u001b[0m\u001b[1;33m\u001b[0m\u001b[1;33m\u001b[0m\u001b[0m\n\u001b[0m",
      "\u001b[1;31mNameError\u001b[0m: name 'y_hat_tr' is not defined"
     ]
    }
   ],
   "source": [
    "R2(y_train, y_hat_tr)"
   ]
  },
  {
   "cell_type": "code",
   "execution_count": 572,
   "id": "79f27618",
   "metadata": {},
   "outputs": [
    {
     "data": {
      "text/plain": [
       "[(-1.3461614504034941e-05, 'electric'),\n",
       " (-2.9026751312068555e-06, 'sqrt_ft'),\n",
       " (-1.711335768794406e-06, 'zipcode'),\n",
       " (-9.888877003010614e-07, 'fireplaces'),\n",
       " (-5.067777684432858e-07, 'convection'),\n",
       " (-4.779628355103656e-07, 'vinyl'),\n",
       " (-1.6262502709623176e-07, 'warming'),\n",
       " (-8.208460567444947e-08, 'refrigerator'),\n",
       " (-4.805112370595664e-08, 'purifier'),\n",
       " (2.0893316304316987e-08, 'carpet'),\n",
       " (4.696234458188086e-08, 'acrylic'),\n",
       " (1.6597199047792732e-07, 'HOA'),\n",
       " (2.0628823219000584e-07, 'brick'),\n",
       " (2.2927607672589792e-07, 'pantry'),\n",
       " (2.5733142061960556e-07, 'wet'),\n",
       " (2.6826636525988967e-07, 'stone'),\n",
       " (5.009391581171898e-07, 'bedrooms'),\n",
       " (7.898155210601243e-07, 'lot_acres'),\n",
       " (8.642677843968938e-07, 'porcelain'),\n",
       " (9.206896347359375e-07, 'ceramic'),\n",
       " (1.7792821149519045e-06, 'bathrooms'),\n",
       " (3.2296107051697445, 'house_age'),\n",
       " (3.4831722530319933, 'initial_price')]"
      ]
     },
     "execution_count": 572,
     "metadata": {},
     "output_type": "execute_result"
    }
   ],
   "source": [
    "sorted(list(zip(lr_mul.w,feats)))"
   ]
  },
  {
   "cell_type": "code",
   "execution_count": 573,
   "id": "4dfefc75",
   "metadata": {},
   "outputs": [],
   "source": [
    "yy = lr_mul.predict(x_validate[feats])"
   ]
  },
  {
   "cell_type": "code",
   "execution_count": 574,
   "id": "4a0e6db1",
   "metadata": {},
   "outputs": [
    {
     "data": {
      "text/plain": [
       "0.9999999995754235"
      ]
     },
     "execution_count": 574,
     "metadata": {},
     "output_type": "execute_result"
    }
   ],
   "source": [
    "R2(y_validate,yy)"
   ]
  },
  {
   "cell_type": "markdown",
   "id": "d7a342cc",
   "metadata": {},
   "source": [
    "### KNN Regressor"
   ]
  },
  {
   "cell_type": "code",
   "execution_count": 12,
   "id": "7b73174c",
   "metadata": {},
   "outputs": [],
   "source": [
    "class KNNRegresor():\n",
    "\n",
    "    def fit(self,X,y):\n",
    "        self.X=X\n",
    "        self.y=y\n",
    "  \n",
    "    def predict(self,X,K, epsilon = 1e-3):\n",
    "        N=len(X)\n",
    "        y_hat= np.zeros(N)\n",
    "    \n",
    "        for i in range(N):\n",
    "            dist2 = np.sum((self.X-X[i])**2,axis=1)\n",
    "            idxt= np.argsort(dist2)[:K]\n",
    "            gamma_K = np.exp(-dist2[idxt])/np.exp(-dist2[idxt]).sum()\n",
    "            y_hat[i]=gamma_K.dot(self.y[idxt])\n",
    "    \n",
    "        return y_hat"
   ]
  },
  {
   "cell_type": "code",
   "execution_count": 14,
   "id": "953b7964",
   "metadata": {},
   "outputs": [],
   "source": [
    "knn = KNNRegresor()"
   ]
  },
  {
   "cell_type": "markdown",
   "id": "db44d3fb",
   "metadata": {},
   "source": [
    "### Train set"
   ]
  },
  {
   "cell_type": "code",
   "execution_count": 15,
   "id": "386fbad2",
   "metadata": {},
   "outputs": [],
   "source": [
    "x_train = x_train[feats].to_numpy()\n",
    "y_train = y_train.to_numpy()"
   ]
  },
  {
   "cell_type": "code",
   "execution_count": 16,
   "id": "1c29f143",
   "metadata": {},
   "outputs": [],
   "source": [
    "knn.fit(x_train,y_train)"
   ]
  },
  {
   "cell_type": "code",
   "execution_count": 32,
   "id": "d683d6ec",
   "metadata": {},
   "outputs": [],
   "source": [
    "r2_train = {k:0 for v,k in enumerate(range(2,21))}\n",
    "for n in range(2,21):\n",
    "    train_pred = knn.predict(x_train, n)\n",
    "    r2_train[n] = R2(train_pred,y_train)"
   ]
  },
  {
   "cell_type": "code",
   "execution_count": 33,
   "id": "7c12f517",
   "metadata": {},
   "outputs": [
    {
     "data": {
      "text/plain": [
       "{2: 0.9715765448987178,\n",
       " 3: 0.9397378519803671,\n",
       " 4: 0.9128752310527755,\n",
       " 5: 0.8888261612612178,\n",
       " 6: 0.8704596543595682,\n",
       " 7: 0.8564862441790827,\n",
       " 8: 0.8432079186521467,\n",
       " 9: 0.8325596960570014,\n",
       " 10: 0.8214532557299639,\n",
       " 11: 0.8111722688423473,\n",
       " 12: 0.8036401778883779,\n",
       " 13: 0.7959329067807905,\n",
       " 14: 0.7880499234113966,\n",
       " 15: 0.7825457260876065,\n",
       " 16: 0.7768860989629337,\n",
       " 17: 0.7709393321948849,\n",
       " 18: 0.7658068126115387,\n",
       " 19: 0.7609176720892061,\n",
       " 20: 0.7562206789711651}"
      ]
     },
     "execution_count": 33,
     "metadata": {},
     "output_type": "execute_result"
    }
   ],
   "source": [
    "r2_train"
   ]
  },
  {
   "cell_type": "markdown",
   "id": "825900e6",
   "metadata": {},
   "source": [
    "### Validation set"
   ]
  },
  {
   "cell_type": "code",
   "execution_count": 23,
   "id": "ed070efd",
   "metadata": {},
   "outputs": [],
   "source": [
    "y_validate = y_validate.to_numpy()\n",
    "x_validate = x_validate[feats].to_numpy()"
   ]
  },
  {
   "cell_type": "code",
   "execution_count": 34,
   "id": "bc40cde5",
   "metadata": {},
   "outputs": [],
   "source": [
    "r2_val = {k:0 for v,k in enumerate(range(2,21))}\n",
    "for n in range(2,21):\n",
    "    val_pred = knn.predict(x_validate, n)\n",
    "    r2_val[n] = R2(val_pred,y_validate)"
   ]
  },
  {
   "cell_type": "markdown",
   "id": "7971bd68",
   "metadata": {},
   "source": [
    "### Test set"
   ]
  },
  {
   "cell_type": "code",
   "execution_count": 26,
   "id": "ae472d7a",
   "metadata": {},
   "outputs": [],
   "source": [
    "y_test = y_test.to_numpy()\n",
    "x_test = x_test[feats].to_numpy()"
   ]
  },
  {
   "cell_type": "code",
   "execution_count": 27,
   "id": "818d84a7",
   "metadata": {},
   "outputs": [
    {
     "data": {
      "text/plain": [
       "0.6597508452416311"
      ]
     },
     "execution_count": 27,
     "metadata": {},
     "output_type": "execute_result"
    }
   ],
   "source": [
    "test_pred = knn.predict(x_test, 2)\n",
    "R2(test_pred,y_test)"
   ]
  },
  {
   "cell_type": "markdown",
   "id": "4e062091",
   "metadata": {},
   "source": [
    "### Comparing training and validation"
   ]
  },
  {
   "cell_type": "code",
   "execution_count": 40,
   "id": "9b5992a1",
   "metadata": {},
   "outputs": [
    {
     "data": {
      "image/png": "[encoded data removed]",
      "text/plain": [
       "<Figure size 720x360 with 1 Axes>"
      ]
     },
     "metadata": {},
     "output_type": "display_data"
    }
   ],
   "source": [
    "plt.figure(figsize = (10,5))\n",
    "plt.plot(list(r2_train.keys()), list(r2_train.values()), marker = \".\", markersize = 13, linewidth = 2, label = \"Train\")\n",
    "plt.plot(list(r2_val.keys()), list(r2_val.values()), marker = \".\", markersize = 13, linewidth = 2, label = \"Validation\")\n",
    "plt.xlabel(\"K-Neighbours\")\n",
    "plt.ylabel(\"R2\")\n",
    "plt.legend()\n",
    "plt.show()"
   ]
  },
  {
   "cell_type": "code",
   "execution_count": null,
   "id": "c1ab3f06",
   "metadata": {},
   "outputs": [],
   "source": []
  }
 ],
 "metadata": {
  "kernelspec": {
   "display_name": "Python 3 (ipykernel)",
   "language": "python",
   "name": "python3"
  },
  "language_info": {
   "codemirror_mode": {
    "name": "ipython",
    "version": 3
   },
   "file_extension": ".py",
   "mimetype": "text/x-python",
   "name": "python",
   "nbconvert_exporter": "python",
   "pygments_lexer": "ipython3",
   "version": "3.9.7"
  }
 },
 "nbformat": 4,
 "nbformat_minor": 5
}
