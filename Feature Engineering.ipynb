{
 "cells": [
  {
   "cell_type": "code",
   "execution_count": 1,
   "id": "ee738f1a",
   "metadata": {},
   "outputs": [],
   "source": [
    "import pandas as pd\n",
    "import numpy as np\n",
    "import matplotlib.pyplot as plt\n",
    "import seaborn as sn\n",
    "import warnings\n",
    "import random\n",
    "pd.options.display.float_format = '{:.2f}'.format\n",
    "warnings.simplefilter(action='ignore')\n",
    "sn.set()"
   ]
  },
  {
   "cell_type": "code",
   "execution_count": 2,
   "id": "2dd2386e",
   "metadata": {},
   "outputs": [],
   "source": [
    "data = pd.read_csv(\"housing_data.csv\")"
   ]
  },
  {
   "cell_type": "markdown",
   "id": "dfd7b1ba",
   "metadata": {},
   "source": [
    "### Variables types"
   ]
  },
  {
   "cell_type": "code",
   "execution_count": 3,
   "id": "53601cc7",
   "metadata": {},
   "outputs": [],
   "source": [
    "cols = [var for var in data.columns if var != \"MLS\"]\n",
    "num_cols = [var for var in cols if data[var].dtype != 'O' and var != 'year_built']\n",
    "cat_cols = [var for var in cols if data[var].dtype == 'O']\n",
    "date_cols = [var for var in cols if var not in num_cols + cat_cols]"
   ]
  },
  {
   "cell_type": "markdown",
   "id": "c1cff87b",
   "metadata": {},
   "source": [
    "### Change \"None\" values to NaN"
   ]
  },
  {
   "cell_type": "code",
   "execution_count": 4,
   "id": "c45ff792",
   "metadata": {},
   "outputs": [],
   "source": [
    "def fillingNones(df,cols):\n",
    "    \n",
    "    '''This function looks for all None string values and changes them to nan'''\n",
    "    df = df.copy()\n",
    "    \n",
    "    #Iterates over the columns classified as \"objects\", containing strings\n",
    "    for var in cols:\n",
    "        df[var] = np.where(df[var] == \"None\", np.nan, df[var])\n",
    "    return df"
   ]
  },
  {
   "cell_type": "code",
   "execution_count": 5,
   "id": "d2b126a6",
   "metadata": {},
   "outputs": [],
   "source": [
    "data = fillingNones(data,cat_cols)"
   ]
  },
  {
   "cell_type": "markdown",
   "id": "391d010b",
   "metadata": {},
   "source": [
    "### Dropping values from date feature"
   ]
  },
  {
   "cell_type": "code",
   "execution_count": 6,
   "id": "fda9321b",
   "metadata": {},
   "outputs": [],
   "source": [
    "data = data[(data[\"year_built\"] != 0) & (data[\"year_built\"] > 1921)].reset_index(drop = True)"
   ]
  },
  {
   "cell_type": "markdown",
   "id": "8cfeb126",
   "metadata": {},
   "source": [
    "### Dropping zipcodes containing less than 6 observations"
   ]
  },
  {
   "cell_type": "code",
   "execution_count": 7,
   "id": "9fbf7c39",
   "metadata": {},
   "outputs": [],
   "source": [
    "codes = (data.groupby(\"zipcode\")[\"sold_price\"].count().sort_values(ascending = False))\n",
    "codes = codes.loc[codes > 5].index.tolist()\n",
    "data = data.loc[data[\"zipcode\"].isin(codes)].reset_index(drop = True)"
   ]
  },
  {
   "cell_type": "markdown",
   "id": "05409e57",
   "metadata": {},
   "source": [
    "### Dropping outliers from bedrooms"
   ]
  },
  {
   "cell_type": "code",
   "execution_count": 8,
   "id": "012d95e9",
   "metadata": {},
   "outputs": [],
   "source": [
    "data = data.loc[data[\"bedrooms\"] < 20]"
   ]
  },
  {
   "cell_type": "markdown",
   "id": "63369e89",
   "metadata": {},
   "source": [
    "### Dropping high value houses "
   ]
  },
  {
   "cell_type": "code",
   "execution_count": 9,
   "id": "ee0671f5",
   "metadata": {
    "scrolled": false
   },
   "outputs": [],
   "source": [
    "data = data.loc[data[\"sold_price\"] < 1500000]"
   ]
  },
  {
   "cell_type": "markdown",
   "id": "b177d6c5",
   "metadata": {},
   "source": [
    "### Missing values"
   ]
  },
  {
   "cell_type": "code",
   "execution_count": 10,
   "id": "99adb5dc",
   "metadata": {},
   "outputs": [],
   "source": [
    "missing = [var for var in data.columns if data[var].isnull().sum() > 0]"
   ]
  },
  {
   "cell_type": "markdown",
   "id": "6967e31a",
   "metadata": {},
   "source": [
    "### Filling NaN"
   ]
  },
  {
   "cell_type": "code",
   "execution_count": 11,
   "id": "69d5dca7",
   "metadata": {},
   "outputs": [
    {
     "data": {
      "text/plain": [
       "lot_acres           0\n",
       "bathrooms           0\n",
       "sqrt_ft             0\n",
       "garage              0\n",
       "kitchen_features    0\n",
       "fireplaces          0\n",
       "floor_covering      0\n",
       "HOA                 0\n",
       "dtype: int64"
      ]
     },
     "execution_count": 11,
     "metadata": {},
     "output_type": "execute_result"
    }
   ],
   "source": [
    "for var in missing:\n",
    "\n",
    "    # calculate the mode\n",
    "    mode_val = data[var].mode()[0]\n",
    "\n",
    "    # replace missing values by the mode\n",
    "    data[var] = data[var].fillna(mode_val)\n",
    "\n",
    "# check that we have no more missing values in the engineered variables\n",
    "data[missing].isnull().sum()"
   ]
  },
  {
   "cell_type": "markdown",
   "id": "0339ae8f",
   "metadata": {},
   "source": [
    "### Cleaning values in HOA feature"
   ]
  },
  {
   "cell_type": "code",
   "execution_count": 12,
   "id": "9a54b0e8",
   "metadata": {},
   "outputs": [],
   "source": [
    "data[\"HOA\"] = data[\"HOA\"].replace({\"20,000\":20000, \"2,000\":2000, \"1,290\": 1290, \"1,769\":1769,\n",
    "                                   \"8,333\": 8333, \"1,000\":1000, \"19,480\":19480, '1,600':1600, \n",
    "                                   \"1,010\": 1010, \"1,200\":1200, \"1,717\": 1717, \"1,100\":1100,\n",
    "                                  \"1,270\":1270, \"5,900\":5900})"
   ]
  },
  {
   "cell_type": "code",
   "execution_count": 13,
   "id": "47064979",
   "metadata": {},
   "outputs": [],
   "source": [
    "data[\"HOA\"] = data[\"HOA\"].astype(float).astype(int)"
   ]
  },
  {
   "cell_type": "markdown",
   "id": "ceab888f",
   "metadata": {},
   "source": [
    "### Casting type variables"
   ]
  },
  {
   "cell_type": "code",
   "execution_count": 14,
   "id": "89fa251c",
   "metadata": {},
   "outputs": [],
   "source": [
    "integers = [\"MLS\",\"sold_price\",\"zipcode\",\"year_built\",\"bedrooms\",\"fireplaces\"]\n",
    "decimals = [\"bathrooms\",\"sqrt_ft\",\"garage\",\"fireplaces\"]"
   ]
  },
  {
   "cell_type": "code",
   "execution_count": 15,
   "id": "5f03b27a",
   "metadata": {},
   "outputs": [],
   "source": [
    "def castObjectVars(df,cols_int,cols_float):\n",
    "    '''This function casts dtype objects to a better fit'''\n",
    "    \n",
    "    df = df.copy()\n",
    "    for x in cols_int:\n",
    "        df[x] = data[x].astype(int)\n",
    "    \n",
    "    for i in cols_float:\n",
    "        df[i] = data[i].values.astype(float).tolist()\n",
    "    return df"
   ]
  },
  {
   "cell_type": "code",
   "execution_count": 16,
   "id": "86bbecdb",
   "metadata": {},
   "outputs": [],
   "source": [
    "data = castObjectVars(data,integers,decimals)"
   ]
  },
  {
   "cell_type": "markdown",
   "id": "af6c6825",
   "metadata": {},
   "source": [
    "### Update features"
   ]
  },
  {
   "cell_type": "code",
   "execution_count": 17,
   "id": "b3fe292a",
   "metadata": {},
   "outputs": [],
   "source": [
    "cols = [var for var in data.columns if var != \"MLS\"]\n",
    "num_cols = [var for var in cols if data[var].dtype != 'O' and var != 'year_built']\n",
    "cat_cols = [var for var in cols if data[var].dtype == 'O']\n",
    "date_cols = [var for var in cols if var not in num_cols + cat_cols]\n",
    "\n",
    "discrete = [var for var in num_cols if len(data[var].unique()) < 22 and var not in date_cols+[\"MLS\"]]\n",
    "continuous = [var for var in num_cols if var not in discrete+date_cols+[\"MLS\"]]"
   ]
  },
  {
   "cell_type": "markdown",
   "id": "3cb173c6",
   "metadata": {},
   "source": [
    "### Transform year built to house age"
   ]
  },
  {
   "cell_type": "code",
   "execution_count": 18,
   "id": "c9e042fe",
   "metadata": {},
   "outputs": [],
   "source": [
    "data[\"house_age\"] = 2022 - data[\"year_built\"]\n",
    "data = data.drop([\"year_built\"], axis = 1).reset_index(drop = True)"
   ]
  },
  {
   "cell_type": "markdown",
   "id": "f0150c8d",
   "metadata": {},
   "source": [
    "### Create house initial values and some adding noise "
   ]
  },
  {
   "cell_type": "code",
   "execution_count": 19,
   "id": "6c6c7ea6",
   "metadata": {},
   "outputs": [],
   "source": [
    "data[\"initial_price\"] = data[\"sold_price\"]/(pow(1 + random.uniform(0.04, 0.06) , data[\"house_age\"])\n",
    "                                            *random.uniform(1.5, 2.5))\n",
    "\n",
    "data[\"soldprice_2032\"] = data[\"sold_price\"] * (pow(1 + 0.05 ,10)*random.uniform(1.7, 1.9))"
   ]
  },
  {
   "cell_type": "code",
   "execution_count": 20,
   "id": "7e9a4c83",
   "metadata": {},
   "outputs": [],
   "source": [
    "data = castObjectVars(data,[\"initial_price\",\"soldprice_2032\"],decimals)"
   ]
  },
  {
   "cell_type": "markdown",
   "id": "8a2361c5",
   "metadata": {},
   "source": [
    "### Numerical variables transformation"
   ]
  },
  {
   "cell_type": "code",
   "execution_count": 21,
   "id": "ddef1c51",
   "metadata": {},
   "outputs": [],
   "source": [
    "for var in [\"sold_price\", \"sqrt_ft\", \"initial_price\", \"soldprice_2032\"]:    \n",
    "    data[var] = np.log(data[var])"
   ]
  },
  {
   "cell_type": "markdown",
   "id": "b75b9fb5",
   "metadata": {},
   "source": [
    "### Encoding kitchen features and floor covering"
   ]
  },
  {
   "cell_type": "code",
   "execution_count": 22,
   "id": "789a23d3",
   "metadata": {},
   "outputs": [],
   "source": [
    "\"\"\" For the kitchen_features feature, it is necessary to first separate the\n",
    "characteristics into different columns. After that, we can observe which ones\n",
    "each house contains, and then create a new column with the vectorized\n",
    "representations of them (not one-hot encoders). \"\"\"\n",
    "\n",
    "# Join every single characteristic into one list\n",
    "feature = data[\"kitchen_features\"]\n",
    "kitchen_chars = []\n",
    "kitchen_vectors = []\n",
    "\n",
    "for i in feature:\n",
    "    description = i.lower().split(\",\")\n",
    "    kitchen_chars += description\n",
    "\n",
    "# Create a vector with all the unique values\n",
    "labels = []\n",
    "\n",
    "for i in kitchen_chars:\n",
    "    if ':' in i:\n",
    "        aux = i.split(':')[0]\n",
    "        labels.append(aux) #Just keep the general feature\n",
    "    #print(f\"Saving {aux}\")\n",
    "    elif i[0] == ' ':\n",
    "        aux = i[1:]\n",
    "        labels.append(aux)\n",
    "    else:\n",
    "        labels.append(i)\n",
    "    #print(f\"Saving {i}\")\n",
    "\n",
    "labels = np.unique(labels) \n",
    "\n",
    "#These labels should be given to the programming team as additional data\n",
    "labels = ['appliance_color','countertops','microwave','electric_oven','convection_oven','gas_oven','compactor','desk',\n",
    "          'dishwasher','sink','freezer','garbage_disposal','pantry','indoor_grill','lazy_susan','refrigerator',\n",
    "          'water_purifier','warming_drawer','wet_bar','wine_cooler']\n",
    "\n",
    "for i in feature:\n",
    "    encoder = np.zeros(20)\n",
    "    description = i.lower().split(\",\")\n",
    "\n",
    "    for j in description:\n",
    "        if ':' in j:\n",
    "            j = j.split(':')[0]\n",
    "    \n",
    "        j = j.replace(' ','_')\n",
    "    \n",
    "    for k in range(len(labels)):\n",
    "        if labels[k] in j:\n",
    "            encoder[k] = 1\n",
    "        else:\n",
    "            if j == 'black' or j == 'stainless':\n",
    "                encoder[0] = 1\n",
    "            if j == 'butch_block' or j == 'island' or j == 'quartzite':\n",
    "                encoder[1] = 1\n",
    "            if 'electric' in j:\n",
    "                encoder[3] = 1\n",
    "            if j == 'oven' or 'convection' in j or j == '#_of_ovens':\n",
    "                encoder[4] = 1\n",
    "            if 'gas' in j:\n",
    "                encoder[5] = 1\n",
    "            if 'osmosis' in j:\n",
    "                encoder[16] = 1\n",
    "  \n",
    "    kitchen_vectors.append(encoder)\n",
    "\n",
    "# Create the columns with the presence of each feature\n",
    "appliance = []\n",
    "countertop = []\n",
    "microwave = []\n",
    "electric = []\n",
    "convection = []\n",
    "gas = []\n",
    "compactor = []\n",
    "desk = []\n",
    "dishwasher = []\n",
    "sink = []\n",
    "freezer = []\n",
    "garbage = []\n",
    "pantry = []\n",
    "grill = []\n",
    "lazy = []\n",
    "refrigerator = []\n",
    "purifier = []\n",
    "warming = []\n",
    "wet = []\n",
    "wine = []\n",
    "\n",
    "for i in kitchen_vectors:\n",
    "    appliance.append(i[0])\n",
    "    countertop.append(i[1])\n",
    "    microwave.append(i[2])\n",
    "    electric.append(i[3])\n",
    "    convection.append(i[4])\n",
    "    gas.append(i[5])\n",
    "    compactor.append(i[6])\n",
    "    desk.append(i[7])\n",
    "    dishwasher.append(i[8])\n",
    "    sink.append(i[9])\n",
    "    freezer.append(i[10])\n",
    "    garbage.append(i[11])\n",
    "    pantry.append(i[12])\n",
    "    grill.append(i[13])\n",
    "    lazy.append(i[14])\n",
    "    refrigerator.append(i[15])\n",
    "    purifier.append(i[16])\n",
    "    warming.append(i[17])\n",
    "    wet.append(i[18])\n",
    "    wine.append(i[19])\n",
    "\n",
    "data['appliance'] = appliance\n",
    "data['countertop'] = countertop\n",
    "data['microwave'] = microwave\n",
    "data['electric'] = electric\n",
    "data['convection'] = convection\n",
    "data['gas'] = gas\n",
    "data['compactor'] = compactor\n",
    "data['desk'] = desk\n",
    "data['dishwasher'] = dishwasher\n",
    "data['sink'] = sink\n",
    "data['freezer'] = freezer\n",
    "data['garbage'] = garbage\n",
    "data['pantry'] = pantry\n",
    "data['grill'] = grill\n",
    "data['lazy'] = lazy\n",
    "data['refrigerator'] = refrigerator\n",
    "data['purifier'] = purifier\n",
    "data['warming'] = warming\n",
    "data['wet'] = wet\n",
    "data['wine'] = wine\n",
    "\n",
    "data['appliance'] = data['appliance'].astype(int)\n",
    "data['countertop'] = data['countertop'].astype(int)\n",
    "data['microwave'] = data['microwave'].astype(int)\n",
    "data['electric'] = data['electric'].astype(int)\n",
    "data['convection'] = data['convection'].astype(int)\n",
    "data['gas'] = data['gas'].astype(int)\n",
    "data['compactor'] = data['compactor'].astype(int)\n",
    "data['desk'] = data['desk'].astype(int)\n",
    "data['dishwasher'] = data['dishwasher'].astype(int)\n",
    "data['sink'] = data['sink'].astype(int)\n",
    "data['freezer'] = data['freezer'].astype(int)\n",
    "data['garbage'] = data['garbage'].astype(int)\n",
    "data['pantry'] = data['pantry'].astype(int)\n",
    "data['grill'] = data['grill'].astype(int)\n",
    "data['lazy'] = data['lazy'].astype(int)\n",
    "data['refrigerator'] = data['refrigerator'].astype(int)\n",
    "data['purifier'] = data['purifier'].astype(int)\n",
    "data['warming'] = data['warming'].astype(int)\n",
    "data['wet'] = data['wet'].astype(int)\n",
    "data['wine'] = data['wine'].astype(int)"
   ]
  },
  {
   "cell_type": "code",
   "execution_count": 23,
   "id": "52beaa53",
   "metadata": {},
   "outputs": [],
   "source": [
    "feature = data[\"floor_covering\"]\n",
    "floor_chars = []\n",
    "floor_vectors = []\n",
    "\n",
    "for i in feature:\n",
    "    description = i.lower().split(\",\")\n",
    "    floor_chars += description\n",
    "\n",
    "# Create a vector with all the unique values\n",
    "labels = []\n",
    "\n",
    "for i in floor_chars:\n",
    "    if ':' in i:\n",
    "        aux = i.split(':')[1] #Save the first keyword of the description after the ':'\n",
    "        labels.append(aux) #Just keep the general feature\n",
    "    #print(f\"Saving {aux}\")\n",
    "    else:\n",
    "        labels.append(i)\n",
    "    #print(f\"Saving {i}\")\n",
    "\n",
    "labels = np.unique(labels)\n",
    "\n",
    "#These labels should be given to the programming team as additional data\n",
    "labels = ['mexican','porcelain','stone','acrylic','wood','brick','carpet','ceramic',\n",
    "          'concrete','vinyl','marble','other']\n",
    "\n",
    "for i in feature:\n",
    "    encoder = np.zeros(12)\n",
    "    description = i.lower().split(\",\")\n",
    "\n",
    "    for j in description:\n",
    "        if ':' in j:\n",
    "            j = j.split(':')[1]\n",
    "    \n",
    "    for k in range(len(labels)):\n",
    "        if labels[k] == j or labels[k] in j:\n",
    "            encoder[k] = 1\n",
    "        else:\n",
    "            if 'talavera' in j:\n",
    "                encoder[0] = 1\n",
    "            if 'italian' in j or 'porcelain wood' in j or 'porclain' in j:\n",
    "                encoder[1] = 1\n",
    "            if 'cantera' in j or 'canterra' in j:\n",
    "                encoder[2] = 1\n",
    "            if 'bamboo' in j or 'brazilian' in j:\n",
    "                encoder[3] = 1\n",
    "  \n",
    "    floor_vectors.append(encoder)\n",
    "\n",
    "# Create the columns with the presence of each feature\n",
    "mexican = []\n",
    "porcelain = []\n",
    "stone = []\n",
    "acrylic = []\n",
    "wood = []\n",
    "brick = []\n",
    "carpet = []\n",
    "ceramic = []\n",
    "concrete = []\n",
    "vinyl = []\n",
    "marble = []\n",
    "other = []\n",
    "\n",
    "for i in floor_vectors:\n",
    "    mexican.append(i[0])\n",
    "    porcelain.append(i[1])\n",
    "    stone.append(i[2])\n",
    "    acrylic.append(i[3])\n",
    "    wood.append(i[4])\n",
    "    brick.append(i[5])\n",
    "    carpet.append(i[6])\n",
    "    ceramic.append(i[7])\n",
    "    concrete.append(i[8])\n",
    "    vinyl.append(i[9])\n",
    "    marble.append(i[10])\n",
    "    other.append(i[11])\n",
    "\n",
    "data['mexican'] = mexican\n",
    "data['porcelain'] = porcelain\n",
    "data['stone'] = stone\n",
    "data['acrylic'] = acrylic\n",
    "data['wood'] = wood\n",
    "data['brick'] = brick\n",
    "data['carpet'] = carpet\n",
    "data['ceramic'] = ceramic\n",
    "data['concrete'] = concrete\n",
    "data['vinyl'] = vinyl\n",
    "data['marble'] = marble\n",
    "data['other'] = other\n",
    "\n",
    "data['mexican'] = data['mexican'].astype(int)\n",
    "data['porcelain'] = data['porcelain'].astype(int)\n",
    "data['stone'] = data['stone'].astype(int)\n",
    "data['acrylic'] = data['acrylic'].astype(int)\n",
    "data['wood'] = data['wood'].astype(int)\n",
    "data['brick'] = data['brick'].astype(int)\n",
    "data['carpet'] = data['carpet'].astype(int)\n",
    "data['ceramic'] = data['ceramic'].astype(int)\n",
    "data['concrete'] = data['concrete'].astype(int)\n",
    "data['vinyl'] = data['vinyl'].astype(int)\n",
    "data['marble'] = data['marble'].astype(int)\n",
    "data['other'] = data['other'].astype(int)"
   ]
  },
  {
   "cell_type": "code",
   "execution_count": 24,
   "id": "c14a33de",
   "metadata": {},
   "outputs": [],
   "source": [
    "data = data.drop([\"kitchen_features\", \"floor_covering\"], axis = 1).reset_index(drop = True)"
   ]
  },
  {
   "cell_type": "markdown",
   "id": "81114a31",
   "metadata": {},
   "source": [
    "### Dropping useless kitchen and material features"
   ]
  },
  {
   "cell_type": "code",
   "execution_count": 25,
   "id": "d021dc0c",
   "metadata": {},
   "outputs": [],
   "source": [
    "feats_drop = [\"MLS\", \"taxes\", \"appliance\", \"countertop\", \"microwave\", \"gas\", \"compactor\", \"desk\", \"freezer\",\n",
    "             \"garbage\", \"grill\", \"lazy\", \"wine\", \"mexican\", \"wood\", \"concrete\", \"marble\", \"other\"]"
   ]
  },
  {
   "cell_type": "code",
   "execution_count": 26,
   "id": "5e3b0494",
   "metadata": {},
   "outputs": [],
   "source": [
    "data = data.drop(feats_drop, axis = 1).reset_index(drop = True)"
   ]
  },
  {
   "cell_type": "code",
   "execution_count": 27,
   "id": "d5205945",
   "metadata": {},
   "outputs": [],
   "source": [
    "train = data.sample(frac = 0.75, replace = True, random_state=43)\n",
    "validate = data.sample(frac = 0.1, replace = True, random_state=44)\n",
    "test = data.sample(frac = 0.15, replace = True, random_state=45)"
   ]
  },
  {
   "cell_type": "markdown",
   "id": "1d61614b",
   "metadata": {},
   "source": [
    "### Scaling features"
   ]
  },
  {
   "cell_type": "code",
   "execution_count": 29,
   "id": "277f0bae",
   "metadata": {},
   "outputs": [],
   "source": [
    "for d in [train,validate,test]:\n",
    "    for c in d.columns.values:\n",
    "        d[c] =(d[c] - d[c].mean()) / d[c].std()"
   ]
  },
  {
   "cell_type": "code",
   "execution_count": 32,
   "id": "3221b3a0",
   "metadata": {},
   "outputs": [],
   "source": [
    "train.to_csv(\"Train_Data.csv\", index = False)\n",
    "validate.to_csv(\"Validation.csv\", index = False)\n",
    "test.to_csv(\"Test_Data.csv\", index = False)"
   ]
  },
  {
   "cell_type": "code",
   "execution_count": 581,
   "id": "a83e1dce",
   "metadata": {},
   "outputs": [],
   "source": [
    "data.to_csv(\"Scaled_Data.csv\", index = False)"
   ]
  },
  {
   "cell_type": "code",
   "execution_count": 554,
   "id": "90a1ee2d",
   "metadata": {},
   "outputs": [],
   "source": [
    "#data.to_csv(\"Unscaled_Data.csv\", index = False)"
   ]
  },
  {
   "cell_type": "code",
   "execution_count": null,
   "id": "bc886623",
   "metadata": {},
   "outputs": [],
   "source": []
  },
  {
   "cell_type": "code",
   "execution_count": null,
   "id": "b86968af",
   "metadata": {},
   "outputs": [],
   "source": []
  },
  {
   "cell_type": "code",
   "execution_count": null,
   "id": "f75fc27e",
   "metadata": {},
   "outputs": [],
   "source": []
  },
  {
   "cell_type": "code",
   "execution_count": null,
   "id": "04377252",
   "metadata": {},
   "outputs": [],
   "source": []
  },
  {
   "cell_type": "code",
   "execution_count": null,
   "id": "b02c968f",
   "metadata": {},
   "outputs": [],
   "source": []
  }
 ],
 "metadata": {
  "kernelspec": {
   "display_name": "Python 3 (ipykernel)",
   "language": "python",
   "name": "python3"
  },
  "language_info": {
   "codemirror_mode": {
    "name": "ipython",
    "version": 3
   },
   "file_extension": ".py",
   "mimetype": "text/x-python",
   "name": "python",
   "nbconvert_exporter": "python",
   "pygments_lexer": "ipython3",
   "version": "3.9.7"
  }
 },
 "nbformat": 4,
 "nbformat_minor": 5
}
