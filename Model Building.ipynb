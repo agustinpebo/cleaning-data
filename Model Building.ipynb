{
 "cells": [
  {
   "cell_type": "code",
   "execution_count": 1,
   "id": "05c987ce",
   "metadata": {},
   "outputs": [],
   "source": [
    "import numpy as np\n",
    "import pandas as pd\n",
    "import matplotlib.pyplot as plt\n",
    "import warnings\n",
    "pd.options.display.float_format = '{:.2f}'.format\n",
    "warnings.simplefilter(action='ignore')"
   ]
  },
  {
   "cell_type": "code",
   "execution_count": 2,
   "id": "7f257e00",
   "metadata": {},
   "outputs": [],
   "source": [
    "def bin_cross_entropy(y, p_hat):\n",
    "    return -(1/len(y))*np.sum(y*np.log(p_hat) + (1-y) * np.log(1-p_hat))\n",
    "\n",
    "def accuracy(y, y_hat):\n",
    "    return np.mean(y == y_hat)\n",
    "\n",
    "def softmax(h):\n",
    "    return (np.exp(h.T)/np.sum(np.exp(h), axis = 1)).T\n",
    "\n",
    "def cross_entropy(y, p_hat):\n",
    "    return -(1/len(y))*np.sum(np.sum(y*np.log(p_hat), axis = 1), axis = 0)\n",
    "\n",
    "def OLS(Y,Y_hat):\n",
    "    return (1/(2*len(Y)))*np.sum((Y-Y_hat)**2)\n",
    "\n",
    "def indices_one_hot(df, nb_classes):\n",
    "    targets = np.array(df).reshape(-1)\n",
    "    return np.eye(nb_classes)[targets]\n",
    "\n",
    "def one_hot_encode(y):\n",
    "    N = len(y)\n",
    "    K = len(set(y))\n",
    "    \n",
    "    Y = np.zeros((N,K))\n",
    "    for i in range(N):\n",
    "        Y[i, y[i]] = 1\n",
    "    return Y"
   ]
  },
  {
   "cell_type": "code",
   "execution_count": 3,
   "id": "47c87dff",
   "metadata": {},
   "outputs": [],
   "source": [
    "def sigmoid(h):\n",
    "    return 1/(1+np.exp(-h))\n",
    "\n",
    "def ReLU(H):\n",
    "    return H*(H>0)\n",
    "\n",
    "def softmax(H):\n",
    "    eH = np.exp(H)\n",
    "    return eH/eH.sum(axis = 1, keepdims = True)\n",
    "\n",
    "def linear(H):\n",
    "    return H\n",
    "\n",
    "def derivatives(Z, a):\n",
    "    \n",
    "    ##No parentheses needed to call another function\n",
    "    if a == linear: \n",
    "        return 1\n",
    "    elif a == sigmoid:\n",
    "        return Z*(1-Z)\n",
    "    elif a == ReLU:\n",
    "        return (Z>0).astype(int)\n",
    "    elif a == np.tanh:\n",
    "        return 1-Z*Z\n",
    "    else:\n",
    "        ValueError(\"Unknown Activation Function\")"
   ]
  },
  {
   "cell_type": "markdown",
   "id": "a8f33b63",
   "metadata": {},
   "source": [
    "### Loading data"
   ]
  },
  {
   "cell_type": "code",
   "execution_count": 6,
   "id": "43a440ae",
   "metadata": {},
   "outputs": [],
   "source": [
    "data = pd.read_csv(\"Final_titanic2.csv\")"
   ]
  },
  {
   "cell_type": "code",
   "execution_count": 8,
   "id": "81116466",
   "metadata": {},
   "outputs": [
    {
     "data": {
      "text/plain": [
       "Index(['Pclass_1', 'Pclass_2', 'Pclass_3', 'SmallFamily', 'LargeFamily',\n",
       "       'Survived', 'AgeGender', 'Alone'],\n",
       "      dtype='object')"
      ]
     },
     "execution_count": 8,
     "metadata": {},
     "output_type": "execute_result"
    }
   ],
   "source": [
    "data.columns"
   ]
  },
  {
   "cell_type": "markdown",
   "id": "545ed83f",
   "metadata": {},
   "source": [
    "### Split data"
   ]
  },
  {
   "cell_type": "code",
   "execution_count": 9,
   "id": "1511f351",
   "metadata": {},
   "outputs": [],
   "source": [
    "train = data.sample(frac = 0.85, replace = True, random_state=43)\n",
    "test = data.sample(frac = 0.15, replace = True, random_state=45)"
   ]
  },
  {
   "cell_type": "markdown",
   "id": "85492428",
   "metadata": {},
   "source": [
    "### Extracting parameters to scale data"
   ]
  },
  {
   "cell_type": "code",
   "execution_count": 10,
   "id": "b89ea8b5",
   "metadata": {},
   "outputs": [],
   "source": [
    "means = train.mean(axis=0)\n",
    "ranges = train.max(axis=0)-train.min(axis=0)"
   ]
  },
  {
   "cell_type": "markdown",
   "id": "d871c407",
   "metadata": {},
   "source": [
    "### Split target and predictors"
   ]
  },
  {
   "cell_type": "code",
   "execution_count": 11,
   "id": "a045ec9e",
   "metadata": {},
   "outputs": [],
   "source": [
    "x_train = train.drop([\"Survived\"], axis = 1)\n",
    "y_train = train[\"Survived\"]\n",
    "\n",
    "x_test = test.drop([\"Survived\"], axis = 1)\n",
    "y_test = test[\"Survived\"]"
   ]
  },
  {
   "cell_type": "markdown",
   "id": "56410d18",
   "metadata": {},
   "source": [
    "### Getting feats"
   ]
  },
  {
   "cell_type": "code",
   "execution_count": 12,
   "id": "02a20b90",
   "metadata": {},
   "outputs": [],
   "source": [
    "feats = x_train.columns.values"
   ]
  },
  {
   "cell_type": "markdown",
   "id": "92620729",
   "metadata": {},
   "source": [
    "### Scaling data"
   ]
  },
  {
   "cell_type": "code",
   "execution_count": 13,
   "id": "eb175792",
   "metadata": {},
   "outputs": [],
   "source": [
    "x_train_scaled = (x_train - means) / ranges\n",
    "x_test_scaled = (x_test - means) / ranges"
   ]
  },
  {
   "cell_type": "markdown",
   "id": "c46f3b84",
   "metadata": {},
   "source": [
    "### Casting dataframes to np arrays"
   ]
  },
  {
   "cell_type": "code",
   "execution_count": 14,
   "id": "2abc41b6",
   "metadata": {},
   "outputs": [],
   "source": [
    "x_train = x_train.to_numpy()\n",
    "x_test = x_test.to_numpy()\n",
    "y_train = y_train.to_numpy()\n",
    "y_test = y_test.to_numpy()"
   ]
  },
  {
   "cell_type": "markdown",
   "id": "1b487f67",
   "metadata": {},
   "source": [
    "### Casting scaled data to np arrays"
   ]
  },
  {
   "cell_type": "code",
   "execution_count": 15,
   "id": "6052d86f",
   "metadata": {},
   "outputs": [],
   "source": [
    "x_train_scaled = x_train_scaled.drop([\"Survived\"], axis = 1)\n",
    "y_train = train[\"Survived\"]\n",
    "\n",
    "x_test_scaled = x_test_scaled.drop([\"Survived\"], axis = 1)\n",
    "y_test = test[\"Survived\"]\n",
    "\n",
    "x_train_scaled = x_train_scaled.to_numpy()\n",
    "x_test_scaled = x_test_scaled.to_numpy()\n",
    "y_train = y_train.to_numpy()\n",
    "y_test = y_test.to_numpy()"
   ]
  },
  {
   "cell_type": "markdown",
   "id": "939dd722",
   "metadata": {},
   "source": [
    "### Simple Logistic Regression"
   ]
  },
  {
   "cell_type": "code",
   "execution_count": 16,
   "id": "83c7910c",
   "metadata": {},
   "outputs": [],
   "source": [
    "class SimpleLogReg():\n",
    "    def __init__(self, thresh = 0.5):\n",
    "        self.thresh = thresh\n",
    "        self.W = None\n",
    "        self.B = None\n",
    "        \n",
    "    def fit(self, x, y, eta = 1e-3, epochs = 1e3, show_curve = False):\n",
    "        epochs = int(epochs)\n",
    "        N,D = x.shape\n",
    "        \n",
    "        #Initialize weights and bias \n",
    "        self.W = np.random.randn(D)\n",
    "        self.B = np.random.randn(1)\n",
    "        \n",
    "        J = np.zeros(epochs)\n",
    "        \n",
    "        for epoch in range(epochs):\n",
    "            p_hat = self.__forward__(x)\n",
    "            J[epoch] = bin_cross_entropy(y, p_hat)\n",
    "            \n",
    "            #Weight and Bias updates\n",
    "            self.W -= eta*(1/N)*x.T@(p_hat-y)\n",
    "            self.B -= eta*(1/N)*np.sum(p_hat-y)\n",
    "            \n",
    "        if show_curve:\n",
    "            plt.figure()\n",
    "            plt.plot(J)\n",
    "            plt.xlabel(\"epochs\")\n",
    "            plt.ylabel(\"$\\mathcal{J}$\")\n",
    "            plt.title(\"Training Curve\")\n",
    "            plt.show()\n",
    "    \n",
    "    def __forward__(self,x):\n",
    "        return sigmoid(x@self.W + self.B)\n",
    "    \n",
    "    def predict(self, x):\n",
    "        return (self.__forward__(x) >= self.thresh).astype(np.int32)"
   ]
  },
  {
   "cell_type": "markdown",
   "id": "436648b7",
   "metadata": {},
   "source": [
    "### Model unscaled data"
   ]
  },
  {
   "cell_type": "code",
   "execution_count": 17,
   "id": "d2d1c3c0",
   "metadata": {},
   "outputs": [],
   "source": [
    "log_r = SimpleLogReg()"
   ]
  },
  {
   "cell_type": "code",
   "execution_count": 18,
   "id": "3369f643",
   "metadata": {},
   "outputs": [
    {
     "data": {
      "image/png": "[encoded data removed]",
      "text/plain": [
       "<Figure size 432x288 with 1 Axes>"
      ]
     },
     "metadata": {
      "needs_background": "light"
     },
     "output_type": "display_data"
    }
   ],
   "source": [
    "log_r.fit(x_train, y_train, eta = 0.2, epochs = 1000, show_curve = True)"
   ]
  },
  {
   "cell_type": "code",
   "execution_count": 19,
   "id": "fca61571",
   "metadata": {},
   "outputs": [],
   "source": [
    "preds = log_r.predict(x_train)"
   ]
  },
  {
   "cell_type": "markdown",
   "id": "559838e9",
   "metadata": {},
   "source": [
    "### Training accuracy "
   ]
  },
  {
   "cell_type": "code",
   "execution_count": 20,
   "id": "8b31bf96",
   "metadata": {},
   "outputs": [
    {
     "data": {
      "text/plain": [
       "0.7939233817701453"
      ]
     },
     "execution_count": 20,
     "metadata": {},
     "output_type": "execute_result"
    }
   ],
   "source": [
    "accuracy(preds, y_train)"
   ]
  },
  {
   "cell_type": "code",
   "execution_count": 21,
   "id": "ebee8a1f",
   "metadata": {},
   "outputs": [],
   "source": [
    "test_pred = log_r.predict(x_test)"
   ]
  },
  {
   "cell_type": "markdown",
   "id": "761df96a",
   "metadata": {},
   "source": [
    "### Test accuracy"
   ]
  },
  {
   "cell_type": "code",
   "execution_count": 22,
   "id": "5a0b8a45",
   "metadata": {},
   "outputs": [
    {
     "data": {
      "text/plain": [
       "0.7611940298507462"
      ]
     },
     "execution_count": 22,
     "metadata": {},
     "output_type": "execute_result"
    }
   ],
   "source": [
    "accuracy(test_pred, y_test)"
   ]
  },
  {
   "cell_type": "markdown",
   "id": "e7e2d536",
   "metadata": {},
   "source": [
    "### Model Scaled data"
   ]
  },
  {
   "cell_type": "code",
   "execution_count": 23,
   "id": "07e43e2f",
   "metadata": {},
   "outputs": [],
   "source": [
    "log_r_sc = SimpleLogReg()"
   ]
  },
  {
   "cell_type": "code",
   "execution_count": 24,
   "id": "1c2d191e",
   "metadata": {},
   "outputs": [
    {
     "data": {
      "image/png": "[encoded data removed]",
      "text/plain": [
       "<Figure size 432x288 with 1 Axes>"
      ]
     },
     "metadata": {
      "needs_background": "light"
     },
     "output_type": "display_data"
    }
   ],
   "source": [
    "log_r_sc.fit(x_train_scaled, y_train, eta = 0.3, epochs = 3500, show_curve = True)"
   ]
  },
  {
   "cell_type": "code",
   "execution_count": 25,
   "id": "a35603bf",
   "metadata": {},
   "outputs": [
    {
     "data": {
      "text/plain": [
       "0.7767503302509907"
      ]
     },
     "execution_count": 25,
     "metadata": {},
     "output_type": "execute_result"
    }
   ],
   "source": [
    "preds_sc = log_r_sc.predict(x_train_scaled)\n",
    "accuracy(preds_sc, y_train)"
   ]
  },
  {
   "cell_type": "code",
   "execution_count": 26,
   "id": "54da6f6b",
   "metadata": {},
   "outputs": [
    {
     "data": {
      "text/plain": [
       "0.7238805970149254"
      ]
     },
     "execution_count": 26,
     "metadata": {},
     "output_type": "execute_result"
    }
   ],
   "source": [
    "test_pred_sc = log_r_sc.predict(x_test_scaled)\n",
    "accuracy(test_pred_sc, y_test)"
   ]
  },
  {
   "cell_type": "markdown",
   "id": "54182860",
   "metadata": {},
   "source": [
    "### Neural Network "
   ]
  },
  {
   "cell_type": "code",
   "execution_count": 27,
   "id": "944bac99",
   "metadata": {},
   "outputs": [],
   "source": [
    "class Shallow_ANN():\n",
    "    \n",
    "    def fit(self, x, y, neurons = 10, eta = 1e-3, epochs = 1e3, show_curve = False):\n",
    "        epochs = int(epochs)\n",
    "        Y = one_hot_encode(y)\n",
    "\n",
    "        N,D = x.shape\n",
    "        K = Y.shape[1]\n",
    "\n",
    "        self.w = {l: np.random.randn(M[0], M[1]) for l,M in enumerate(zip([D,neurons],[neurons,K]),1)}\n",
    "        self.b = {l: np.random.randn(M) for l, M in enumerate([neurons, K],1)}\n",
    "        \n",
    "        self.a = {1:np.tanh, 2:softmax}\n",
    "        \n",
    "        J = np.zeros(epochs)\n",
    "        \n",
    "        for epoch in range(epochs):\n",
    "            self.__forward__(x)\n",
    "            J[epoch] = cross_entropy(Y, self.Z[2])\n",
    "        \n",
    "            #Weight update rule\n",
    "            self.w[2] -= eta*(1/N)*self.Z[1].T@(self.Z[2] - Y)\n",
    "            self.w[1] -= eta*(1/N)*x.T@((self.Z[2] - Y)@self.w[2].T*(1-self.Z[1]**2))\n",
    "\n",
    "            #Bias update rule\n",
    "            self.b[2] -= eta*(1/N)*(self.Z[2]-Y).sum(axis=0)\n",
    "            self.b[1] -= eta*(1/N)*((self.Z[2]-Y)@self.w[2].T*(1-self.Z[1]**2)).sum(axis=0)\n",
    "        \n",
    "        if show_curve:\n",
    "            plt.figure()\n",
    "            plt.plot(J)\n",
    "            plt.xlabel(\"epochs\")\n",
    "            plt.ylabel(\"$\\mathcal{J}$\")\n",
    "            plt.title(\"Training Curve\")\n",
    "            plt.show()\n",
    "        \n",
    "    def __forward__(self,x):\n",
    "        self.Z = {0:x}\n",
    "\n",
    "        for l in sorted(self.w.keys()):\n",
    "            self.Z[l] = self.a[l](self.Z[l-1]@self.w[l] + self.b[l])\n",
    "\n",
    "    def predict(self, x):\n",
    "        self.__forward__(x)\n",
    "        return self.Z[2].argmax(axis = 1)"
   ]
  },
  {
   "cell_type": "code",
   "execution_count": 28,
   "id": "593ab674",
   "metadata": {},
   "outputs": [],
   "source": [
    "ann = Shallow_ANN()"
   ]
  },
  {
   "cell_type": "code",
   "execution_count": 29,
   "id": "98af245d",
   "metadata": {},
   "outputs": [
    {
     "data": {
      "image/png": "[encoded data removed]",
      "text/plain": [
       "<Figure size 432x288 with 1 Axes>"
      ]
     },
     "metadata": {
      "needs_background": "light"
     },
     "output_type": "display_data"
    }
   ],
   "source": [
    "ann.fit(x_train, y_train, eta = 0.35, epochs = 1000, show_curve = True)"
   ]
  },
  {
   "cell_type": "code",
   "execution_count": 30,
   "id": "70e5e3eb",
   "metadata": {},
   "outputs": [],
   "source": [
    "ann_preds = ann.predict(x_train)"
   ]
  },
  {
   "cell_type": "code",
   "execution_count": 31,
   "id": "387f0600",
   "metadata": {},
   "outputs": [
    {
     "data": {
      "text/plain": [
       "0.8309114927344782"
      ]
     },
     "execution_count": 31,
     "metadata": {},
     "output_type": "execute_result"
    }
   ],
   "source": [
    "accuracy(ann_preds, y_train)"
   ]
  },
  {
   "cell_type": "markdown",
   "id": "f077dfa4",
   "metadata": {},
   "source": [
    "### Test predictions"
   ]
  },
  {
   "cell_type": "code",
   "execution_count": 32,
   "id": "e34b5a89",
   "metadata": {},
   "outputs": [
    {
     "data": {
      "text/plain": [
       "0.7835820895522388"
      ]
     },
     "execution_count": 32,
     "metadata": {},
     "output_type": "execute_result"
    }
   ],
   "source": [
    "ann_test_pred = ann.predict(x_test)\n",
    "accuracy(ann_test_pred, y_test)"
   ]
  },
  {
   "cell_type": "markdown",
   "id": "8ce0e499",
   "metadata": {},
   "source": [
    "### Neural Network Scaled"
   ]
  },
  {
   "cell_type": "code",
   "execution_count": 33,
   "id": "4667e1fb",
   "metadata": {},
   "outputs": [],
   "source": [
    "ann_scaled = Shallow_ANN()"
   ]
  },
  {
   "cell_type": "code",
   "execution_count": 34,
   "id": "2fbdf5d5",
   "metadata": {},
   "outputs": [
    {
     "data": {
      "image/png": "[encoded data removed]",
      "text/plain": [
       "<Figure size 432x288 with 1 Axes>"
      ]
     },
     "metadata": {
      "needs_background": "light"
     },
     "output_type": "display_data"
    }
   ],
   "source": [
    "ann_scaled.fit(x_train_scaled, y_train, eta = 0.2, epochs = 3000, show_curve = True)"
   ]
  },
  {
   "cell_type": "code",
   "execution_count": 35,
   "id": "bbf18648",
   "metadata": {},
   "outputs": [
    {
     "data": {
      "text/plain": [
       "0.821664464993395"
      ]
     },
     "execution_count": 35,
     "metadata": {},
     "output_type": "execute_result"
    }
   ],
   "source": [
    "ann_scaled_preds = ann_scaled.predict(x_train_scaled)\n",
    "accuracy(ann_scaled_preds, y_train)"
   ]
  },
  {
   "cell_type": "code",
   "execution_count": 36,
   "id": "c429b34a",
   "metadata": {},
   "outputs": [
    {
     "data": {
      "text/plain": [
       "0.7910447761194029"
      ]
     },
     "execution_count": 36,
     "metadata": {},
     "output_type": "execute_result"
    }
   ],
   "source": [
    "ann_scaled_test_pred = ann_scaled.predict(x_test_scaled)\n",
    "accuracy(ann_scaled_test_pred, y_test)"
   ]
  },
  {
   "cell_type": "markdown",
   "id": "89a1d127",
   "metadata": {},
   "source": [
    "### Variable architecture Neural Network"
   ]
  },
  {
   "cell_type": "code",
   "execution_count": 37,
   "id": "c901b5e5",
   "metadata": {},
   "outputs": [],
   "source": [
    "class ANN():\n",
    "    \n",
    "    def __init__(self, architecture, activations = None, mode = 0):\n",
    "        self.mode = mode\n",
    "        self.architecture = architecture\n",
    "        self.activations = activations\n",
    "        self.L = len(architecture) + 1\n",
    "    \n",
    "    \n",
    "    def fit(self, x, y, eta = 1e-3, epochs = 1000, show_curve = False):\n",
    "        epochs = int(epochs)\n",
    "        if self.mode: Y = y\n",
    "        else: Y = one_hot_encode(y)\n",
    "        N,D = x.shape\n",
    "        K = Y.shape[1]\n",
    "        \n",
    "        #Initialize Weights and Biases\n",
    "        self.W = {l: np.random.randn(M[0],M[1]) for l,M in\n",
    "                 enumerate(zip(([D] + self.architecture), (self.architecture + [K])),1)}\n",
    "        self.b = {l: np.random.randn(M) for l, M in enumerate(self.architecture + [K], 1)}\n",
    "        \n",
    "        #Activation Function Loading\n",
    "        if self.activations is None:\n",
    "            self.a = {l: ReLU for l in range(1,self.L)}\n",
    "        else:\n",
    "            self.a = {l:act for l,act in enumerate(self.activations,1)}\n",
    "        \n",
    "        #Set Mode\n",
    "        if self.mode: \n",
    "            self.a[self.L] = linear\n",
    "        else: \n",
    "            self.a[self.L] = softmax\n",
    "        \n",
    "        J = np.zeros(epochs)\n",
    "        \n",
    "        for epoch in range(epochs):\n",
    "            \n",
    "            self.__forward__(x)\n",
    "            \n",
    "            if self.mode:\n",
    "                J[epoch] = OLS(Y, self.Z[self.L])\n",
    "            else:\n",
    "                J[epoch] = cross_entropy(Y, self.Z[self.L])\n",
    "                \n",
    "            dH = (1/N) * (self.Z[self.L]-Y)\n",
    "            \n",
    "            for l in sorted(self.W.keys(), reverse = True):\n",
    "                dW = self.Z[l-1].T@dH\n",
    "                dB = dH.sum(axis = 0)\n",
    "                \n",
    "                #Weight and bias update rule\n",
    "                self.W[l] -= eta * dW\n",
    "                self.b[l] -= eta * dB\n",
    "                \n",
    "                if l > 1:\n",
    "                    dZ = dH@self.W[l].T\n",
    "                    dH = dZ * derivatives(self.Z[l-1], self.a[l-1])\n",
    "                \n",
    "        if show_curve:\n",
    "            plt.figure()\n",
    "            plt.plot(J)\n",
    "            plt.xlabel(\"epochs\")\n",
    "            plt.ylabel(\"$\\mathcal{J}$\")\n",
    "            plt.title(\"Training Curve\")\n",
    "            plt.show()\n",
    "\n",
    "    def __forward__(self,x):\n",
    "        self.Z = {0:x}\n",
    "\n",
    "        for l in sorted(self.W.keys()):\n",
    "            self.Z[l] = self.a[l](self.Z[l-1]@self.W[l] + self.b[l])\n",
    "\n",
    "    def predict(self, x):\n",
    "        self.__forward__(x)\n",
    "\n",
    "        if self.mode: return self.Z[self.L]\n",
    "        else: return self.Z[self.L].argmax(axis = 1)"
   ]
  },
  {
   "cell_type": "code",
   "execution_count": 38,
   "id": "d187aae7",
   "metadata": {},
   "outputs": [],
   "source": [
    "var_ann = ANN([6,8,6], [ReLU, ReLU, ReLU])"
   ]
  },
  {
   "cell_type": "code",
   "execution_count": 39,
   "id": "fbce9fe8",
   "metadata": {},
   "outputs": [
    {
     "data": {
      "image/png": "[encoded data removed]",
      "text/plain": [
       "<Figure size 432x288 with 1 Axes>"
      ]
     },
     "metadata": {
      "needs_background": "light"
     },
     "output_type": "display_data"
    }
   ],
   "source": [
    "var_ann.fit(x_train, y_train, eta = 0.001, epochs = 3000, show_curve=True) "
   ]
  },
  {
   "cell_type": "code",
   "execution_count": 40,
   "id": "141abc87",
   "metadata": {},
   "outputs": [
    {
     "data": {
      "text/plain": [
       "0.809775429326288"
      ]
     },
     "execution_count": 40,
     "metadata": {},
     "output_type": "execute_result"
    }
   ],
   "source": [
    "var_preds = var_ann.predict(x_train)\n",
    "accuracy(var_preds, y_train)"
   ]
  },
  {
   "cell_type": "code",
   "execution_count": 41,
   "id": "ab909bac",
   "metadata": {},
   "outputs": [
    {
     "data": {
      "text/plain": [
       "0.7835820895522388"
      ]
     },
     "execution_count": 41,
     "metadata": {},
     "output_type": "execute_result"
    }
   ],
   "source": [
    "vann_test_pred = var_ann.predict(x_test)\n",
    "accuracy(vann_test_pred, y_test)"
   ]
  },
  {
   "cell_type": "markdown",
   "id": "15d6634e",
   "metadata": {},
   "source": [
    "### Variable architecture Neural Network Scaled"
   ]
  },
  {
   "cell_type": "code",
   "execution_count": 42,
   "id": "093fd956",
   "metadata": {},
   "outputs": [],
   "source": [
    "var_ann_scaled = ANN([6,8,8,6], [ReLU, ReLU, ReLU, ReLU])"
   ]
  },
  {
   "cell_type": "code",
   "execution_count": 43,
   "id": "220df3ca",
   "metadata": {},
   "outputs": [
    {
     "data": {
      "image/png": "[encoded data removed]",
      "text/plain": [
       "<Figure size 432x288 with 1 Axes>"
      ]
     },
     "metadata": {
      "needs_background": "light"
     },
     "output_type": "display_data"
    }
   ],
   "source": [
    "var_ann_scaled.fit(x_train_scaled, y_train, eta = 0.001, epochs = 2000, show_curve=True) "
   ]
  },
  {
   "cell_type": "code",
   "execution_count": 44,
   "id": "9f226a6c",
   "metadata": {},
   "outputs": [
    {
     "data": {
      "text/plain": [
       "0.7820343461030383"
      ]
     },
     "execution_count": 44,
     "metadata": {},
     "output_type": "execute_result"
    }
   ],
   "source": [
    "var_preds_scaled = var_ann_scaled.predict(x_train_scaled)\n",
    "accuracy(var_preds_scaled, y_train)"
   ]
  },
  {
   "cell_type": "code",
   "execution_count": 45,
   "id": "51b4736a",
   "metadata": {},
   "outputs": [
    {
     "data": {
      "text/plain": [
       "0.8134328358208955"
      ]
     },
     "execution_count": 45,
     "metadata": {},
     "output_type": "execute_result"
    }
   ],
   "source": [
    "vann_s_test_pred = var_ann_scaled.predict(x_test_scaled)\n",
    "accuracy(vann_s_test_pred, y_test)"
   ]
  },
  {
   "cell_type": "code",
   "execution_count": 49,
   "id": "155a2ddc",
   "metadata": {},
   "outputs": [],
   "source": [
    "actual = pd.Series(y_test.tolist(), name = \"Actual\")\n",
    "prediction = pd.Series(vann_s_test_pred.tolist(), name = \"Predicted\")\n",
    "matrix = pd.crosstab(actual,prediction)"
   ]
  },
  {
   "cell_type": "code",
   "execution_count": 50,
   "id": "080faea1",
   "metadata": {},
   "outputs": [
    {
     "data": {
      "text/html": [
       "<div>\n",
       "<style scoped>\n",
       "    .dataframe tbody tr th:only-of-type {\n",
       "        vertical-align: middle;\n",
       "    }\n",
       "\n",
       "    .dataframe tbody tr th {\n",
       "        vertical-align: top;\n",
       "    }\n",
       "\n",
       "    .dataframe thead th {\n",
       "        text-align: right;\n",
       "    }\n",
       "</style>\n",
       "<table border=\"1\" class=\"dataframe\">\n",
       "  <thead>\n",
       "    <tr style=\"text-align: right;\">\n",
       "      <th>Predicted</th>\n",
       "      <th>0</th>\n",
       "      <th>1</th>\n",
       "      <th>Total</th>\n",
       "      <th>Pred %</th>\n",
       "    </tr>\n",
       "    <tr>\n",
       "      <th>Actual</th>\n",
       "      <th></th>\n",
       "      <th></th>\n",
       "      <th></th>\n",
       "      <th></th>\n",
       "    </tr>\n",
       "  </thead>\n",
       "  <tbody>\n",
       "    <tr>\n",
       "      <th>0</th>\n",
       "      <td>68</td>\n",
       "      <td>9</td>\n",
       "      <td>77</td>\n",
       "      <td>88.31</td>\n",
       "    </tr>\n",
       "    <tr>\n",
       "      <th>1</th>\n",
       "      <td>16</td>\n",
       "      <td>41</td>\n",
       "      <td>57</td>\n",
       "      <td>71.93</td>\n",
       "    </tr>\n",
       "  </tbody>\n",
       "</table>\n",
       "</div>"
      ],
      "text/plain": [
       "Predicted   0   1  Total  Pred %\n",
       "Actual                          \n",
       "0          68   9     77   88.31\n",
       "1          16  41     57   71.93"
      ]
     },
     "execution_count": 50,
     "metadata": {},
     "output_type": "execute_result"
    }
   ],
   "source": [
    "matrix[\"Total\"] = matrix.sum(axis = 1)\n",
    "c = 0\n",
    "error = []\n",
    "for i in range(len(matrix)):\n",
    "    n = (((matrix[i][c] / matrix[\"Total\"][c])))*100\n",
    "    error.append(round(n,2))\n",
    "    c += 1\n",
    "matrix[\"Pred %\"] = error\n",
    "matrix"
   ]
  },
  {
   "cell_type": "code",
   "execution_count": 51,
   "id": "eaff89cc",
   "metadata": {},
   "outputs": [],
   "source": [
    "acc = pd.DataFrame({\"Logistic Regresion\": [accuracy(test_pred_sc, y_test)], \n",
    "    \"Logistic Regresion Scaled\": [accuracy(test_pred_sc, y_test)],\n",
    "    \"Neural Network\": [accuracy(ann_test_pred, y_test)],\n",
    "    \"Neural Network Scaled\": [accuracy(ann_scaled_test_pred, y_test)],\n",
    "    \"VA Neural Network\": [accuracy(vann_test_pred, y_test)],\n",
    "    \"VA Neural Network Scaled\": [accuracy(vann_s_test_pred, y_test)]}, \n",
    "     index = {\"Accuracy\":0})"
   ]
  },
  {
   "cell_type": "code",
   "execution_count": 52,
   "id": "da2eaa80",
   "metadata": {},
   "outputs": [
    {
     "data": {
      "image/png": "[encoded data removed]",
      "text/plain": [
       "<Figure size 504x360 with 1 Axes>"
      ]
     },
     "metadata": {
      "needs_background": "light"
     },
     "output_type": "display_data"
    }
   ],
   "source": [
    "acc.iloc[0].sort_values(ascending = False).plot.bar(figsize = (7,5))\n",
    "plt.ylabel(\"Test Accuracy\")\n",
    "plt.title(\"Model Performance\")\n",
    "plt.show()"
   ]
  },
  {
   "cell_type": "code",
   "execution_count": 53,
   "id": "78c6fc99",
   "metadata": {},
   "outputs": [
    {
     "data": {
      "text/plain": [
       "array(['Pclass_1', 'Pclass_2', 'Pclass_3', 'SmallFamily', 'LargeFamily',\n",
       "       'AgeGender', 'Alone'], dtype=object)"
      ]
     },
     "execution_count": 53,
     "metadata": {},
     "output_type": "execute_result"
    }
   ],
   "source": [
    "feats"
   ]
  },
  {
   "cell_type": "code",
   "execution_count": null,
   "id": "c75b8ae7",
   "metadata": {},
   "outputs": [],
   "source": []
  }
 ],
 "metadata": {
  "kernelspec": {
   "display_name": "Python 3 (ipykernel)",
   "language": "python",
   "name": "python3"
  },
  "language_info": {
   "codemirror_mode": {
    "name": "ipython",
    "version": 3
   },
   "file_extension": ".py",
   "mimetype": "text/x-python",
   "name": "python",
   "nbconvert_exporter": "python",
   "pygments_lexer": "ipython3",
   "version": "3.9.7"
  }
 },
 "nbformat": 4,
 "nbformat_minor": 5
}
